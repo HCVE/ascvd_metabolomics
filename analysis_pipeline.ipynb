{
 "cells": [
  {
   "cell_type": "code",
   "execution_count": null,
   "metadata": {},
   "outputs": [],
   "source": [
    "%reset -f\n",
    "%load_ext rpy2.ipython"
   ]
  },
  {
   "cell_type": "code",
   "execution_count": null,
   "metadata": {},
   "outputs": [],
   "source": [
    "%load_ext autoreload\n",
    "%autoreload 2"
   ]
  },
  {
   "cell_type": "markdown",
   "metadata": {},
   "source": [
    "# Imports"
   ]
  },
  {
   "cell_type": "code",
   "execution_count": 365,
   "metadata": {},
   "outputs": [],
   "source": [
    "# a) imports methods\n",
    "import pandas as pd\n",
    "import numpy as np\n",
    "import seaborn as sns\n",
    "import math\n",
    "import random\n",
    "from IPython.core.display import HTML\n",
    "from deps.feature_importance import *\n",
    "from deps.pipeline_funcs import *\n",
    "from matplotlib import pyplot as plt\n",
    "from sklearn.impute import KNNImputer\n",
    "from collections import defaultdict\n",
    "from collections import OrderedDict\n",
    "\n",
    "SEED_GEN = 1000\n",
    "\n",
    "# b) inicialization\n",
    "random.seed(SEED_GEN)\n",
    "\n",
    "\n",
    "# c) *import dataset\n",
    "base = # add the path of the folder containing the datasets\n",
    "metabolites_values_file = # add the metabolomics values file name \n",
    "df_ctrl_cv = pd.read_excel(f'{base}{metabolites_values_file}.xlsx', index_col=0)\n",
    "\n",
    "metabolites_info_file = # add the metabolomics information file name \n",
    "                        # in this dataset, each row index in the metabolite name\n",
    "\n",
    "df_met_class = pd.read_excel(f'{base}{metabolites_info_file}.xlsx', index_col=0)"
   ]
  },
  {
   "cell_type": "markdown",
   "metadata": {},
   "source": [
    "# Step 1: Metabolites preselection"
   ]
  },
  {
   "cell_type": "markdown",
   "metadata": {},
   "source": [
    "## Step 1 a) More than 20% of missing values among cases and controls"
   ]
  },
  {
   "cell_type": "code",
   "execution_count": 378,
   "metadata": {},
   "outputs": [],
   "source": [
    "y_var_cat = # name of the variable differentiating cases (1)/ controls (0)\n",
    "\n",
    "met_names = # list with name of the columns of the metabolites\n",
    "\n",
    "df_ctrl = df_ctrl_cv[df_ctrl_cv[y_var_cat]==0]\n",
    "df_cv = df_ctrl_cv[df_ctrl_cv[y_var_cat]==1]\n",
    "\n",
    "na_df_ctrl = pd.DataFrame(df_ctrl.isna().sum())\n",
    "na_df_cv = pd.DataFrame(df_cv.isna().sum())\n",
    "\n",
    "na_df_ctrl.columns = ['ctrl']\n",
    "na_df_cv.columns = ['cv']\n",
    "\n",
    "na_df = pd.concat([na_df_ctrl, na_df_cv,], axis=1)"
   ]
  },
  {
   "cell_type": "code",
   "execution_count": null,
   "metadata": {},
   "outputs": [],
   "source": [
    "vars_to_remove = remove_missing(na_df, df_ctrl, df_cv, 'ctrl', 'cv')\n",
    "met_names = remove_vars(vars_to_remove, met_names, df_met_class)\n",
    "\n",
    "df_ctrl_cv_pre_deletion = df_ctrl_cv[met_names].copy()"
   ]
  },
  {
   "cell_type": "markdown",
   "metadata": {},
   "source": [
    "## Step 1 b) Metabolites very strongly correlated to multiple metabolites\n"
   ]
  },
  {
   "cell_type": "markdown",
   "metadata": {},
   "source": [
    "### Pearson"
   ]
  },
  {
   "cell_type": "code",
   "execution_count": null,
   "metadata": {},
   "outputs": [],
   "source": [
    "vars_to_remove = remove_multiple_correlated(df_ctrl_cv, met_names, 0.9, \"pearson\")\n",
    "met_names = remove_vars(vars_to_remove, met_names, df_met_class)"
   ]
  },
  {
   "cell_type": "markdown",
   "metadata": {},
   "source": [
    "### Spearman"
   ]
  },
  {
   "cell_type": "code",
   "execution_count": null,
   "metadata": {},
   "outputs": [],
   "source": [
    "vars_to_remove = remove_multiple_correlated(df_ctrl_cv, met_names, 0.9, \"spearman\")\n",
    "met_names = remove_vars(vars_to_remove, met_names, df_met_class)"
   ]
  },
  {
   "cell_type": "markdown",
   "metadata": {},
   "source": [
    "## Step 1 C) Keeping one metabolite in pairwise very strongly correlation\n"
   ]
  },
  {
   "cell_type": "markdown",
   "metadata": {},
   "source": [
    "### Pearson "
   ]
  },
  {
   "cell_type": "code",
   "execution_count": null,
   "metadata": {},
   "outputs": [],
   "source": [
    "vars_to_remove, pairs_to_choose = remove_multiple_correlated(df_ctrl_cv, met_names, 0.9, \"pearson\", pairs_also=True)\n",
    "\n",
    "# observe list and exclude one of the pairs in the folloing list"
   ]
  },
  {
   "cell_type": "code",
   "execution_count": null,
   "metadata": {},
   "outputs": [],
   "source": [
    "vars_to_exclude_chosen = [\n",
    "    \"matabolite_a\",     \n",
    "                         ]\n",
    "met_names = remove_vars(vars_to_exclude_chosen, met_names, df_met_class)"
   ]
  },
  {
   "cell_type": "markdown",
   "metadata": {},
   "source": [
    "### Spearman"
   ]
  },
  {
   "cell_type": "code",
   "execution_count": null,
   "metadata": {},
   "outputs": [],
   "source": [
    "vars_to_remove, pairs_to_choose = remove_multiple_correlated(df_ctrl_cv, met_names, 0.9, \"spearman\", pairs_also=True)\n",
    "# observe list and exclude one of the pairs in the following list"
   ]
  },
  {
   "cell_type": "code",
   "execution_count": null,
   "metadata": {},
   "outputs": [],
   "source": [
    "met_names = remove_vars(vars_to_remove, met_names, df_met_class)"
   ]
  },
  {
   "cell_type": "markdown",
   "metadata": {},
   "source": [
    "# Step 2: Metabolites selection by PLS-DA "
   ]
  },
  {
   "cell_type": "code",
   "execution_count": 388,
   "metadata": {},
   "outputs": [],
   "source": [
    "df_imputted = df_ctrl_cv[met_names + [y_var_cat]]\n",
    "\n",
    "df_train_class_0 = df_imputted[df_imputted[y_var_cat]==0]\n",
    "df_train_class_1 = df_imputted[df_imputted[y_var_cat]==1]\n",
    "\n",
    "df_train_class_0 = transform_per_class(df_train_class_0)\n",
    "df_train_class_1 = transform_per_class(df_train_class_1)\n",
    "\n",
    "train_df = pd.concat([df_train_class_0, df_train_class_1])\n",
    "\n",
    "df_imputted = train_df.sample(frac=1, random_state=SEED_GEN).reset_index(drop=True)"
   ]
  },
  {
   "cell_type": "code",
   "execution_count": null,
   "metadata": {},
   "outputs": [],
   "source": [
    "%%R -i df_imputted -o df_pls_vip_out\n",
    "\n",
    "library(Metrics)\n",
    "library(ggplot2)\n",
    "library(ggrepel)\n",
    "library(mdatools)\n",
    "\n",
    "vip_thres = 1.2\n",
    "coef_thres = 0\n",
    "\n",
    "dat_read <- df_imputted\n",
    "\n",
    "set.seed(1000)\n",
    "\n",
    "X = dat_read[,3:ncol(dat_read)-1]\n",
    "\n",
    "y = dat_read[,ncol(dat_read)]\n",
    "y = as.character(y)\n",
    "\n",
    "set.seed(1000)\n",
    "model <- plsda(cv=5, X, y, ncomp=10, center=TRUE, scale=TRUE,  \n",
    "               ncomp.selcrit=\"wold\")\n",
    "#https://mda.tools/docs/mdatools-tutorial.pdf\n",
    "\n",
    "summary(model)\n",
    "\n",
    "predicted <- predict(model, X)$c.pred[,model$ncomp.selected, 2]\n",
    "predicted[predicted < .1] <- 0\n",
    "print(auc(y, predicted))\n",
    "\n",
    "summary(model$calres, nc = 1)\n",
    "\n",
    "plot(model)\n",
    "\n",
    "plotPerformance(model)\n",
    "\n",
    "plotYVariance(model)\n",
    "plotYCumVariance(model)\n",
    "\n",
    "plotXVariance(model)\n",
    "plotXCumVariance(model)\n",
    "\n",
    "set.seed(1000)\n",
    "plotVIPScores(model, type = \"h\", show.labels = TRUE)\n",
    "\n",
    "vip2_0 <- vipscores(model)\n",
    "above_thres <- vip2_0[vip2_0[,1] >= vip_thres, ]\n",
    "abv_thres<- colnames(X[row.names(above_thres)])\n",
    "\n",
    "\n",
    "printList <- function(list) {\n",
    "  for (item in 1:length(list)) {\n",
    "    print(head(list[[item]]))\n",
    "  }\n",
    "}\n",
    "printList(sort(abv_thres))\n",
    "print(length(abv_thres))\n",
    "\n",
    "vip2_0 <- data.frame(vip2_0[, 1])\n",
    "\n",
    "colnames(vip2_0) <- c(\"VIP\")\n",
    "vip2_0[\"b\"] <- rownames(vip2_0)\n",
    "\n",
    "df_sorted <- vip2_0[order(vip2_0$VIP, decreasing = TRUE), ]\n",
    "\n",
    "coef = getRegcoeffs(model, ny=2)\n",
    "row.names.remove <- c(\"Intercept\")\n",
    "coef = coef[!(row.names(coef) %in% row.names.remove), ]\n",
    "vip2_0[\"coef\"] <- coef \n",
    "\n",
    "\n",
    "vip2_0[\"label\"] = \"\"\n",
    "vip2_0[\"label_plot\"] = \"\"\n",
    "\n",
    "# Loop through the rows of the data frame\n",
    "for (i in 1:nrow(vip2_0)) {\n",
    "  if ((vip2_0$VIP[i] > vip_thres) # & (vip2_0$coef[i] > coef_thres | vip2_0$coef[i] < coef_thres)\n",
    "  ) {\n",
    "    vip2_0$label[i] <- vip2_0$b[i]\n",
    "    vip2_0$label_plot[i] <- strsplit(vip2_0$b[i], split = \"@\")[[1]][1]\n",
    "  } else {\n",
    "    vip2_0$label[i] <- \"\"\n",
    "    vip2_0$label_plot[i] <- \"\"\n",
    "  }\n",
    "}\n",
    "\n",
    "#create scatterplot with a label on every point\n",
    "plot <- ggplot(vip2_0, aes(vip2_0$coef, vip2_0$VIP)) +\n",
    "  geom_point() +\n",
    "  geom_text_repel(aes(label = vip2_0$label_plot) #, max.overlaps = Inf\n",
    "  )  \n",
    "\n",
    "plot <- plot + theme_bw() + theme(panel.grid.major = element_blank(), \n",
    "                                  panel.grid.minor = element_blank()) \n",
    "\n",
    "\n",
    "plot <- plot + xlab(\"Coefficient\") + ylab(\"VIP\") \n",
    "plot <- plot + geom_hline(yintercept=vip_thres, linetype=\"dashed\", color = \"blue\") \n",
    "\n",
    "plot\n",
    "\n",
    "df_pls_vip_out <- vip2_0"
   ]
  },
  {
   "cell_type": "code",
   "execution_count": null,
   "metadata": {},
   "outputs": [],
   "source": [
    "df_pls_vip = df_pls_vip_out[df_pls_vip_out['label']!=\"\"]\n",
    "df_pls_vip.index = list(df_pls_vip['label'])\n",
    "df_pls_vip = df_pls_vip[[\"VIP\", \"coef\"]]\n",
    "\n",
    "\n",
    "df_pls_vip.columns = ['pls_vip', 'pls_coef']\n",
    "df_pls_vip['model_2'] = 'PLS-DA'\n",
    "\n",
    "pls_final = list(df_pls_vip.index)\n",
    "pls_final = sorted(pls_final)"
   ]
  },
  {
   "cell_type": "markdown",
   "metadata": {},
   "source": [
    "## checking correspondence between selected metabolites in external validation dataset"
   ]
  },
  {
   "cell_type": "code",
   "execution_count": null,
   "metadata": {},
   "outputs": [],
   "source": [
    "# use bellow if you want to improve presentation of the metabolites names\n",
    "pls_final_b = {}\n",
    "\n",
    "for m in pls_final:\n",
    "    m_b = # modifications\n",
    "    pls_final_b[m] = m_b"
   ]
  },
  {
   "cell_type": "markdown",
   "metadata": {},
   "source": [
    "# Step 3) Selected features analysis"
   ]
  },
  {
   "cell_type": "code",
   "execution_count": 396,
   "metadata": {},
   "outputs": [],
   "source": [
    "df_met_code = pd.read_csv(# path of file with metabolomics superclasses, \n",
    "                                     # and the hmdb code\n",
    "                                     , index_col=0)"
   ]
  },
  {
   "cell_type": "code",
   "execution_count": null,
   "metadata": {},
   "outputs": [],
   "source": [
    "df_met_code['super_class'].value_counts()"
   ]
  },
  {
   "cell_type": "code",
   "execution_count": null,
   "metadata": {},
   "outputs": [],
   "source": [
    "super_l = {}\n",
    "sub_l = {}\n",
    "for super_sub, n in df_met_code[['super_class', 'met_class']].value_counts().items():\n",
    "    try:\n",
    "        super_l[super_sub[0]].append([super_sub[1], n])\n",
    "    except:\n",
    "        super_l[super_sub[0]] = []\n",
    "        super_l[super_sub[0]].append([super_sub[1], n])\n",
    "\n",
    "super_l"
   ]
  },
  {
   "cell_type": "code",
   "execution_count": null,
   "metadata": {},
   "outputs": [],
   "source": [
    "super_l = {}\n",
    "sub_l = {}\n",
    "for super_sub, n in df_met_code[['super_class', 'sub_class']].value_counts().items():\n",
    "    try:\n",
    "        super_l[super_sub[0]].append([super_sub[1], n])\n",
    "    except:\n",
    "        super_l[super_sub[0]] = []\n",
    "        super_l[super_sub[0]].append([super_sub[1], n])\n",
    "\n",
    "#dict(sorted(super_l.items(), key=lambda item: item[1], reverse=True))\n",
    "super_l"
   ]
  },
  {
   "cell_type": "code",
   "execution_count": null,
   "metadata": {},
   "outputs": [],
   "source": [
    "net_color_map = {'Lipids and lipid-like molecules': \"black\", \n",
    "                 'Organic acids and derivatives': \"forestgreen\", \n",
    "                 'Organic oxygen compounds': \"sienna\", \n",
    "                 'Organoheterocyclic compounds': \"hotpink\", \n",
    "                 'Organic nitrogen compounds': \"grey\",\n",
    "                 'Nucleosides, nucleotides, and analogues': \"#025a7a\", \n",
    "                 'Homogeneous non-metal compounds':  \"#480778\",\n",
    "                 'Alkaloids and derivatives': \"red\",\n",
    "                 }\n",
    "\n",
    "df_met_code['lab_col'] = np.nan\n",
    "\n",
    "for i in df_met_code.index:\n",
    "    df_met_code.loc[i, 'lab_col'] = net_color_map[df_met_code.loc[i, 'super_class']]\n",
    "    \n",
    "df_met_code['metab_b'] = np.nan\n",
    "for i in df_met_code.index:\n",
    "    m = df_met_code.loc[i, \"Analyte\"]\n",
    "    m_b = # same as the pls_final_b\n",
    "    df_met_code.loc[i, 'metab_b'] = m_b\n",
    "\n",
    "col_code = dict(zip(df_met_code['metab_b'], df_met_code['lab_col']))\n",
    "\n",
    "df_met_code.index = list(df_met_code['Analyte'])\n",
    "lipids_vars = list(df_met_code[df_met_code['super_class']==\"Lipids and lipid-like molecules\"].index)\n",
    "orgacid_vars = list(df_met_code[df_met_code['super_class']==\"Organic acids and derivatives\"].index)\n",
    "orgoxy_vars = list(df_met_code[df_met_code['super_class']==\"Organic oxygen compounds\"].index)\n",
    "orghetero_vars = list(df_met_code[df_met_code['super_class']==\"Organoheterocyclic compounds\"].index)\n",
    "orgnitro_vars = list(df_met_code[df_met_code['super_class']==\"Organic nitrogen compounds\"].index)\n",
    "nucleo_vars = list(df_met_code[df_met_code['super_class']==\"Nucleosides, nucleotides, and analogues\"].index)\n",
    "homnonmetal_vars = list(df_met_code[df_met_code['super_class']==\"Homogeneous non-metal compounds\"].index)\n",
    "alkaloids_vars = list(df_met_code[df_met_code['super_class']==\"Alkaloids and derivatives\"].index)\n",
    "other_categories = orghetero_vars + orgnitro_vars + nucleo_vars + homnonmetal_vars + alkaloids_vars"
   ]
  },
  {
   "cell_type": "markdown",
   "metadata": {},
   "source": [
    "## Proportion"
   ]
  },
  {
   "cell_type": "code",
   "execution_count": null,
   "metadata": {},
   "outputs": [],
   "source": [
    "pie_labels = []\n",
    "pie_values = []\n",
    "pie_colors = []\n",
    "\n",
    "for i in df_met_code['super_class'].value_counts().items():\n",
    "    lab = i[0]\n",
    "    val = i[1]\n",
    "    col = net_color_map[i[0]]\n",
    "    pie_labels.append(lab)\n",
    "    pie_values.append(val)\n",
    "    pie_colors.append(col)    \n",
    "    \n",
    "explode = [0.1] * len(pie_values) \n",
    "\n",
    "def func(pct, allvals):\n",
    "    absolute = int(np.round(pct/100.*np.sum(allvals)))\n",
    "    return f\"{absolute:d} ({pct:.0f}%)\"\n",
    "\n",
    "plt.figure()\n",
    "# plotting data on chart \n",
    "wedges, texts, labj = plt.pie(pie_values, labels=pie_labels, colors=pie_colors, \n",
    "        autopct= lambda pct: func(pct, pie_values), \n",
    "        textprops={'color': 'w', 'weight':'bold','size':'15'}, \n",
    "        pctdistance=0.81, radius=1.8,  labeldistance=1.1) \n",
    "  \n",
    "for text, color in zip(texts, pie_colors):\n",
    "    text.set_color(color)\n",
    "    text.set_size(15)\n",
    "\n",
    "plt.show()"
   ]
  },
  {
   "cell_type": "markdown",
   "metadata": {},
   "source": [
    "# Steps 4 and 5: Classification model with XGBoost and Explanability by SHAP with metabolites categories"
   ]
  },
  {
   "cell_type": "markdown",
   "metadata": {},
   "source": [
    "## With all selected features"
   ]
  },
  {
   "cell_type": "code",
   "execution_count": null,
   "metadata": {},
   "outputs": [],
   "source": [
    "selected_imputer = 'mice'\n",
    "selected_model = 'xgb'\n",
    "\n",
    "settings_dict_xgb = tunner(df_ctrl_cv, pls_final, y_var_cat, selected_imputer, \n",
    "                           selected_model, SEED_GEN, per_class_imputation=True)\n",
    "      \n",
    "shap_viz_test(df_ctrl_cv, pls_final,  y_var_cat, selected_imputer, \n",
    "             selected_model, settings_dict_xgb, pls_final_b, \n",
    "             per_class_imputation=True, col_code=col_code)"
   ]
  },
  {
   "cell_type": "markdown",
   "metadata": {},
   "source": [
    "## Models per class"
   ]
  },
  {
   "cell_type": "code",
   "execution_count": null,
   "metadata": {},
   "outputs": [],
   "source": [
    "settings_dict_xgb = tunner(df_ctrl_cv, lipids_vars, y_var_cat, selected_imputer, \n",
    "                           selected_model, SEED_GEN, per_class_imputation=True)\n",
    "shap_viz_test(df_ctrl_cv, lipids_vars, y_var_cat, selected_imputer, \n",
    "              selected_model, settings_dict_xgb, pls_final_b, \n",
    "              per_class_imputation=True, limit_show=True, col_code=col_code)"
   ]
  },
  {
   "cell_type": "code",
   "execution_count": null,
   "metadata": {},
   "outputs": [],
   "source": [
    "settings_dict_xgb = tunner(df_ctrl_cv, orgacid_vars, y_var_cat, selected_imputer, \n",
    "                           selected_model, SEED_GEN, per_class_imputation=True)\n",
    "shap_viz_test(df_ctrl_cv, orgacid_vars, y_var_cat, selected_imputer, \n",
    "              selected_model, settings_dict_xgb, pls_final_b, \n",
    "              per_class_imputation=True, limit_show=True, col_code=col_code)"
   ]
  },
  {
   "cell_type": "code",
   "execution_count": null,
   "metadata": {},
   "outputs": [],
   "source": [
    "settings_dict_xgb = tunner(df_ctrl_cv, orgoxy_vars, y_var_cat, selected_imputer, \n",
    "                           selected_model, SEED_GEN, per_class_imputation=True)\n",
    "shap_viz_test(df_ctrl_cv, orgoxy_vars, y_var_cat, selected_imputer, \n",
    "              selected_model, settings_dict_xgb, pls_final_b, \n",
    "              per_class_imputation=True, limit_show=True, col_code=col_code)"
   ]
  },
  {
   "cell_type": "code",
   "execution_count": null,
   "metadata": {},
   "outputs": [],
   "source": [
    "settings_dict_xgb = tunner(df_ctrl_cv, other_categories, y_var_cat, selected_imputer, \n",
    "                           selected_model, SEED_GEN, per_class_imputation=True)\n",
    "shap_viz_test(df_ctrl_cv, other_categories, y_var_cat, selected_imputer, \n",
    "              selected_model, settings_dict_xgb, pls_final_b, \n",
    "              per_class_imputation=True, limit_show=True, col_code=col_code)"
   ]
  }
 ],
 "metadata": {
  "kernelspec": {
   "display_name": ".venv",
   "language": "python",
   "name": "python3"
  },
  "language_info": {
   "codemirror_mode": {
    "name": "ipython",
    "version": 3
   },
   "file_extension": ".py",
   "mimetype": "text/x-python",
   "name": "python",
   "nbconvert_exporter": "python",
   "pygments_lexer": "ipython3",
   "version": "3.11.5"
  }
 },
 "nbformat": 4,
 "nbformat_minor": 2
}
